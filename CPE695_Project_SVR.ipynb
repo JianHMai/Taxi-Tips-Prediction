{
  "nbformat": 4,
  "nbformat_minor": 0,
  "metadata": {
    "colab": {
      "name": "CPE695 Project.ipynb",
      "provenance": [],
      "collapsed_sections": [],
      "include_colab_link": true
    },
    "kernelspec": {
      "name": "python3",
      "display_name": "Python 3"
    },
    "language_info": {
      "name": "python"
    }
  },
  "cells": [
    {
      "cell_type": "markdown",
      "metadata": {
        "id": "view-in-github",
        "colab_type": "text"
      },
      "source": [
        "<a href=\"https://colab.research.google.com/github/JianHMai/Taxi-Tips-Prediction/blob/SVR/CPE695_Project_SVR.ipynb\" target=\"_parent\"><img src=\"https://colab.research.google.com/assets/colab-badge.svg\" alt=\"Open In Colab\"/></a>"
      ]
    },
    {
      "cell_type": "code",
      "metadata": {
        "id": "sfGS9SY4IyTp"
      },
      "source": [
        "import pandas as pd\n",
        "import numpy as np\n",
        "import csv\n",
        "import matplotlib.pyplot as plt"
      ],
      "execution_count": 140,
      "outputs": []
    },
    {
      "cell_type": "code",
      "metadata": {
        "id": "qlJScl1DYFff"
      },
      "source": [
        "data = pd.read_csv(\"TaxiTrip2021Subset.csv\")\n",
        "\n",
        "train = data.sample(frac=0.8)\n",
        "test = data.drop(train.index).sample(frac=1.0)"
      ],
      "execution_count": 141,
      "outputs": []
    },
    {
      "cell_type": "code",
      "metadata": {
        "id": "ntpGAnrjYFkE"
      },
      "source": [
        "trainX = train[['Trip Seconds', 'Trip Miles', 'Fare']]\n",
        "trainY = train['Tips']\n",
        "testX = test[['Trip Seconds', 'Trip Miles', 'Fare']]\n",
        "testY = test['Tips']"
      ],
      "execution_count": 142,
      "outputs": []
    },
    {
      "cell_type": "code",
      "metadata": {
        "id": "vG3clrS5cKuR"
      },
      "source": [
        "from sklearn.svm import SVR\n",
        "from sklearn.preprocessing import StandardScaler\n",
        "from sklearn.pipeline import make_pipeline\n",
        "from sklearn.metrics import mean_squared_error"
      ],
      "execution_count": 143,
      "outputs": []
    },
    {
      "cell_type": "code",
      "metadata": {
        "colab": {
          "base_uri": "https://localhost:8080/"
        },
        "id": "xmWoZf54tk7h",
        "outputId": "29f8687d-6754-4b35-cca7-30a112048091"
      },
      "source": [
        "svr_clf = make_pipeline(StandardScaler(), SVR())\n",
        "svr_clf.fit(trainX, trainY)"
      ],
      "execution_count": 144,
      "outputs": [
        {
          "output_type": "execute_result",
          "data": {
            "text/plain": [
              "Pipeline(memory=None,\n",
              "         steps=[('standardscaler',\n",
              "                 StandardScaler(copy=True, with_mean=True, with_std=True)),\n",
              "                ('svr',\n",
              "                 SVR(C=1.0, cache_size=200, coef0=0.0, degree=3, epsilon=0.1,\n",
              "                     gamma='scale', kernel='rbf', max_iter=-1, shrinking=True,\n",
              "                     tol=0.001, verbose=False))],\n",
              "         verbose=False)"
            ]
          },
          "metadata": {},
          "execution_count": 144
        }
      ]
    },
    {
      "cell_type": "code",
      "metadata": {
        "id": "AtJIu2_1aqOz",
        "colab": {
          "base_uri": "https://localhost:8080/",
          "height": 419
        },
        "outputId": "f21636bf-52bd-49ed-bf5f-2ec0902f3c50"
      },
      "source": [
        "svr_predY = svr_clf.predict(testX)\n",
        "result = pd.DataFrame({\"Fare\": testX['Fare'], \"Y Tips\": testY, \"Predicted\": np.round(svr_predY,2)})\n",
        "result"
      ],
      "execution_count": 145,
      "outputs": [
        {
          "output_type": "execute_result",
          "data": {
            "text/html": [
              "<div>\n",
              "<style scoped>\n",
              "    .dataframe tbody tr th:only-of-type {\n",
              "        vertical-align: middle;\n",
              "    }\n",
              "\n",
              "    .dataframe tbody tr th {\n",
              "        vertical-align: top;\n",
              "    }\n",
              "\n",
              "    .dataframe thead th {\n",
              "        text-align: right;\n",
              "    }\n",
              "</style>\n",
              "<table border=\"1\" class=\"dataframe\">\n",
              "  <thead>\n",
              "    <tr style=\"text-align: right;\">\n",
              "      <th></th>\n",
              "      <th>Fare</th>\n",
              "      <th>Y Tips</th>\n",
              "      <th>Predicted</th>\n",
              "    </tr>\n",
              "  </thead>\n",
              "  <tbody>\n",
              "    <tr>\n",
              "      <th>6622</th>\n",
              "      <td>31.00</td>\n",
              "      <td>0.0</td>\n",
              "      <td>0.06</td>\n",
              "    </tr>\n",
              "    <tr>\n",
              "      <th>5050</th>\n",
              "      <td>7.50</td>\n",
              "      <td>2.0</td>\n",
              "      <td>0.10</td>\n",
              "    </tr>\n",
              "    <tr>\n",
              "      <th>3387</th>\n",
              "      <td>30.00</td>\n",
              "      <td>0.0</td>\n",
              "      <td>0.06</td>\n",
              "    </tr>\n",
              "    <tr>\n",
              "      <th>8948</th>\n",
              "      <td>10.50</td>\n",
              "      <td>0.0</td>\n",
              "      <td>0.10</td>\n",
              "    </tr>\n",
              "    <tr>\n",
              "      <th>25</th>\n",
              "      <td>7.50</td>\n",
              "      <td>0.0</td>\n",
              "      <td>0.10</td>\n",
              "    </tr>\n",
              "    <tr>\n",
              "      <th>...</th>\n",
              "      <td>...</td>\n",
              "      <td>...</td>\n",
              "      <td>...</td>\n",
              "    </tr>\n",
              "    <tr>\n",
              "      <th>5309</th>\n",
              "      <td>29.25</td>\n",
              "      <td>0.0</td>\n",
              "      <td>0.08</td>\n",
              "    </tr>\n",
              "    <tr>\n",
              "      <th>7373</th>\n",
              "      <td>9.00</td>\n",
              "      <td>0.0</td>\n",
              "      <td>0.10</td>\n",
              "    </tr>\n",
              "    <tr>\n",
              "      <th>6217</th>\n",
              "      <td>21.25</td>\n",
              "      <td>0.0</td>\n",
              "      <td>0.10</td>\n",
              "    </tr>\n",
              "    <tr>\n",
              "      <th>2540</th>\n",
              "      <td>16.00</td>\n",
              "      <td>0.0</td>\n",
              "      <td>0.10</td>\n",
              "    </tr>\n",
              "    <tr>\n",
              "      <th>2735</th>\n",
              "      <td>30.25</td>\n",
              "      <td>0.0</td>\n",
              "      <td>0.06</td>\n",
              "    </tr>\n",
              "  </tbody>\n",
              "</table>\n",
              "<p>1799 rows × 3 columns</p>\n",
              "</div>"
            ],
            "text/plain": [
              "       Fare  Y Tips  Predicted\n",
              "6622  31.00     0.0       0.06\n",
              "5050   7.50     2.0       0.10\n",
              "3387  30.00     0.0       0.06\n",
              "8948  10.50     0.0       0.10\n",
              "25     7.50     0.0       0.10\n",
              "...     ...     ...        ...\n",
              "5309  29.25     0.0       0.08\n",
              "7373   9.00     0.0       0.10\n",
              "6217  21.25     0.0       0.10\n",
              "2540  16.00     0.0       0.10\n",
              "2735  30.25     0.0       0.06\n",
              "\n",
              "[1799 rows x 3 columns]"
            ]
          },
          "metadata": {},
          "execution_count": 145
        }
      ]
    },
    {
      "cell_type": "code",
      "metadata": {
        "colab": {
          "base_uri": "https://localhost:8080/"
        },
        "id": "Ahrx8R1j3p1o",
        "outputId": "6ff7e9a8-2ae4-4266-ac8f-b40500bb8245"
      },
      "source": [
        "rmse = mean_squared_error(testY, svr_predY, squared=False)\n",
        "print(\"RMSE: \" + \"{:.2f}\".format(rmse))"
      ],
      "execution_count": 146,
      "outputs": [
        {
          "output_type": "stream",
          "name": "stdout",
          "text": [
            "RMSE: 3.21\n"
          ]
        }
      ]
    },
    {
      "cell_type": "code",
      "metadata": {
        "id": "OhgOQc_9h9Pk",
        "colab": {
          "base_uri": "https://localhost:8080/",
          "height": 265
        },
        "outputId": "eca911b4-c76c-48c3-9a38-6921e1dedf28"
      },
      "source": [
        "plt.scatter(testX['Fare'], testY, s=5, color=\"blue\", label=\"original\")\n",
        "plt.scatter(testX['Fare'], svr_predY, s=5, color=\"red\", label=\"fitted\")\n",
        "plt.legend()\n",
        "plt.show()"
      ],
      "execution_count": 149,
      "outputs": [
        {
          "output_type": "display_data",
          "data": {
            "image/png": "[encoded data removed]",
            "text/plain": [
              "<Figure size 432x288 with 1 Axes>"
            ]
          },
          "metadata": {
            "needs_background": "light"
          }
        }
      ]
    }
  ]
}