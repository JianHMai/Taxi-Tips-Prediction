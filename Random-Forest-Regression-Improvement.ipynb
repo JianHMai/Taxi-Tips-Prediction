{
 "cells": [
  {
   "cell_type": "code",
   "execution_count": 1,
   "id": "d78b8adc",
   "metadata": {},
   "outputs": [],
   "source": [
    "import pandas as pd\n",
    "import numpy as np\n",
    "import csv\n",
    "import matplotlib.pyplot as plt\n",
    "import math\n",
    "import pickle"
   ]
  },
  {
   "cell_type": "code",
   "execution_count": 2,
   "id": "54f9c4e5",
   "metadata": {},
   "outputs": [],
   "source": [
    "data = pd.read_csv(\"TaxiTrip2021Subset.csv\")\n",
    "data['Tip Class'] = (data.Tips > 0).astype(int)\n",
    "dataR = data[data['Tip Class'] > 0]\n",
    "train = data.sample(frac=0.8)\n",
    "test = data.drop(train.index).sample(frac=1.0)\n",
    "trainR = dataR.sample(frac=0.8)\n",
    "testR = dataR.drop(trainR.index).sample(frac=1.0)"
   ]
  },
  {
   "cell_type": "code",
   "execution_count": 3,
   "id": "5917baaa",
   "metadata": {},
   "outputs": [],
   "source": [
    "trainX = train[['Trip Seconds', 'Trip Miles', 'Fare']]\n",
    "trainY = train['Tip Class']\n",
    "trainRX = trainR[['Trip Seconds', 'Trip Miles', 'Fare']]\n",
    "trainRY = trainR['Tips']\n",
    "testX = test[['Trip Seconds', 'Trip Miles', 'Fare']]\n",
    "testY = test['Tips']"
   ]
  },
  {
   "cell_type": "code",
   "execution_count": 4,
   "id": "f80ec67f",
   "metadata": {},
   "outputs": [
    {
     "data": {
      "text/plain": [
       "RandomForestRegressor(max_depth=10, random_state=0)"
      ]
     },
     "execution_count": 4,
     "metadata": {},
     "output_type": "execute_result"
    }
   ],
   "source": [
    "from sklearn.ensemble import RandomForestClassifier\n",
    "from sklearn.ensemble import RandomForestRegressor\n",
    "from sklearn.metrics import mean_squared_error\n",
    "from sklearn.metrics import accuracy_score\n",
    "rfc = RandomForestClassifier(max_depth=3, random_state=0)\n",
    "rfr = RandomForestRegressor(max_depth=10, random_state=0)\n",
    "rfc.fit(trainX,trainY)\n",
    "rfr.fit(trainRX,trainRY)"
   ]
  },
  {
   "cell_type": "code",
   "execution_count": 5,
   "id": "55b77d19",
   "metadata": {
    "scrolled": true
   },
   "outputs": [
    {
     "name": "stdout",
     "output_type": "stream",
     "text": [
      "RMSE: 3.54\n",
      "Test RMSE: 6.33\n",
      "Prediction RMSE: 6.27\n",
      "Classifier Accuracy: 0.73\n"
     ]
    }
   ],
   "source": [
    "rfc_predY = rfc.predict(testX)\n",
    "rfr_predY = rfr.predict(testX)*(rfc_predY)\n",
    "rmse = math.sqrt(mean_squared_error(testY,rfr_predY))\n",
    "\n",
    "testYp = testY[testY > 0]\n",
    "predYp = rfr_predY[testY > 0]\n",
    "rmsep = math.sqrt(mean_squared_error(testYp,predYp))\n",
    "\n",
    "predYp2 = rfr_predY[rfr_predY > 0]\n",
    "testYp2 = testY[rfr_predY > 0]\n",
    "rmsep2 = math.sqrt(mean_squared_error(testYp2,predYp2))\n",
    "\n",
    "testRY = test['Tip Class']\n",
    "acc = accuracy_score(testRY, rfc_predY)\n",
    "#print(rfc_predY)\n",
    "#print(predYp2)\n",
    "print(\"RMSE: \" + \"{:.2f}\".format(rmse) + \"\\nTest RMSE: \" + \"{:.2f}\".format(rmsep) + \"\\nPrediction RMSE: \" + \"{:.2f}\".format(rmsep2) + \"\\nClassifier Accuracy: \" + \"{:.2f}\".format(acc))"
   ]
  },
  {
   "cell_type": "code",
   "execution_count": 6,
   "id": "b53a58e4",
   "metadata": {},
   "outputs": [
    {
     "data": {
      "image/png": "[encoded data removed]",
      "text/plain": [
       "<Figure size 432x288 with 1 Axes>"
      ]
     },
     "metadata": {
      "needs_background": "light"
     },
     "output_type": "display_data"
    }
   ],
   "source": [
    "plt.scatter(testX['Fare'], testY, s=8, color='blue', label=\"Original\")\n",
    "plt.scatter(testX['Fare'], rfr_predY, s=2, color=\"red\", label=\"Fitted\")\n",
    "plt.legend()\n",
    "plt.xlabel('Fare')\n",
    "plt.ylabel('Tip')\n",
    "plt.show()"
   ]
  },
  {
   "cell_type": "code",
   "execution_count": 7,
   "id": "0fc3fefc",
   "metadata": {},
   "outputs": [],
   "source": [
    "pickle.dump(rfr, open('RFR_Model2.sav', 'wb'))"
   ]
  }
 ],
 "metadata": {
  "kernelspec": {
   "display_name": "Python 3",
   "language": "python",
   "name": "python3"
  },
  "language_info": {
   "codemirror_mode": {
    "name": "ipython",
    "version": 3
   },
   "file_extension": ".py",
   "mimetype": "text/x-python",
   "name": "python",
   "nbconvert_exporter": "python",
   "pygments_lexer": "ipython3",
   "version": "3.8.8"
  }
 },
 "nbformat": 4,
 "nbformat_minor": 5
}
