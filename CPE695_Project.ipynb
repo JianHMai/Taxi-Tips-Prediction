{
  "nbformat": 4,
  "nbformat_minor": 0,
  "metadata": {
    "colab": {
      "name": "CPE695 Project.ipynb",
      "provenance": [],
      "collapsed_sections": [],
      "include_colab_link": true
    },
    "kernelspec": {
      "name": "python3",
      "display_name": "Python 3"
    },
    "language_info": {
      "name": "python"
    }
  },
  "cells": [
    {
      "cell_type": "markdown",
      "metadata": {
        "id": "view-in-github",
        "colab_type": "text"
      },
      "source": [
        "<a href=\"https://colab.research.google.com/github/JianHMai/Taxi-Tips-Prediction/blob/SVR/CPE695_Project.ipynb\" target=\"_parent\"><img src=\"https://colab.research.google.com/assets/colab-badge.svg\" alt=\"Open In Colab\"/></a>"
      ]
    },
    {
      "cell_type": "code",
      "metadata": {
        "id": "sfGS9SY4IyTp"
      },
      "source": [
        "import pandas as pd\n",
        "import numpy as np\n",
        "import csv\n",
        "import matplotlib.pyplot as plt\n",
        "from sklearn.svm import SVR\n",
        "from sklearn.preprocessing import StandardScaler\n",
        "from sklearn.pipeline import make_pipeline\n",
        "from sklearn.metrics import mean_squared_error"
      ],
      "execution_count": 2,
      "outputs": []
    },
    {
      "cell_type": "code",
      "metadata": {
        "id": "qlJScl1DYFff"
      },
      "source": [
        "#Preprocessing the data\n",
        "from dateutil import parser\n",
        "from sklearn.preprocessing import LabelEncoder\n",
        "\n",
        "data = pd.read_csv(\"TaxiTrip2021Subset1.csv\")\n",
        "\n",
        "data = data.drop(columns='Trip End Timestamp')\n",
        "data = data.rename(columns = {'Trip Start Timestamp' : 'time'})\n",
        "\n",
        "data[\"Payment Type\"] = LabelEncoder().fit_transform(data[\"Payment Type\"])\n",
        "data[\"Company\"] = LabelEncoder().fit_transform(data[\"Company\"])\n",
        "\n",
        "for i in range(len(data)):\n",
        "  data.at[i, \"time\"] = parser.parse(data.iloc[i,0]).time().hour\n",
        "\n",
        "train = data.sample(frac=0.8)\n",
        "test = data.drop(train.index).sample(frac=1.0)"
      ],
      "execution_count": 3,
      "outputs": []
    },
    {
      "cell_type": "code",
      "metadata": {
        "id": "AKLzsll_QzsB"
      },
      "source": [
        "data.corr()"
      ],
      "execution_count": null,
      "outputs": []
    },
    {
      "cell_type": "code",
      "metadata": {
        "id": "ntpGAnrjYFkE"
      },
      "source": [
        "#Original\n",
        "trainX = train[['Trip Seconds', 'Trip Miles', 'Fare']]\n",
        "trainY = train['Tips']\n",
        "testX = test[['Trip Seconds', 'Trip Miles', 'Fare']]\n",
        "testY = test['Tips']"
      ],
      "execution_count": 6,
      "outputs": []
    },
    {
      "cell_type": "code",
      "metadata": {
        "id": "mLkjRgKsSh-G"
      },
      "source": [
        "trainX = train[['Trip Miles', 'Fare', 'Trip Total', 'Pickup Centroid Longitude']]\n",
        "trainY = train['Tips']\n",
        "testX = test[['Trip Miles', 'Fare', 'Trip Total', 'Pickup Centroid Longitude']]\n",
        "testY = test['Tips']"
      ],
      "execution_count": 11,
      "outputs": []
    },
    {
      "cell_type": "code",
      "metadata": {
        "id": "xmWoZf54tk7h",
        "colab": {
          "base_uri": "https://localhost:8080/"
        },
        "outputId": "7763bd38-a925-46f5-d140-277074caf296"
      },
      "source": [
        "svr_clf = make_pipeline(StandardScaler(), SVR())\n",
        "svr_clf.fit(trainX, trainY)"
      ],
      "execution_count": 12,
      "outputs": [
        {
          "output_type": "execute_result",
          "data": {
            "text/plain": [
              "Pipeline(steps=[('standardscaler', StandardScaler()), ('svr', SVR())])"
            ]
          },
          "metadata": {},
          "execution_count": 12
        }
      ]
    },
    {
      "cell_type": "code",
      "metadata": {
        "id": "AtJIu2_1aqOz",
        "colab": {
          "base_uri": "https://localhost:8080/",
          "height": 424
        },
        "outputId": "a2504ae2-14d6-4b9e-b2d8-d9f7b83c0046"
      },
      "source": [
        "svr_predY = svr_clf.predict(testX)\n",
        "result = pd.DataFrame({\"Fare\": testX['Fare'], \"Y Tips\": testY, \"Predicted\": np.round(svr_predY,2)})\n",
        "result"
      ],
      "execution_count": 13,
      "outputs": [
        {
          "output_type": "execute_result",
          "data": {
            "text/html": [
              "<div>\n",
              "<style scoped>\n",
              "    .dataframe tbody tr th:only-of-type {\n",
              "        vertical-align: middle;\n",
              "    }\n",
              "\n",
              "    .dataframe tbody tr th {\n",
              "        vertical-align: top;\n",
              "    }\n",
              "\n",
              "    .dataframe thead th {\n",
              "        text-align: right;\n",
              "    }\n",
              "</style>\n",
              "<table border=\"1\" class=\"dataframe\">\n",
              "  <thead>\n",
              "    <tr style=\"text-align: right;\">\n",
              "      <th></th>\n",
              "      <th>Fare</th>\n",
              "      <th>Y Tips</th>\n",
              "      <th>Predicted</th>\n",
              "    </tr>\n",
              "  </thead>\n",
              "  <tbody>\n",
              "    <tr>\n",
              "      <th>6492</th>\n",
              "      <td>10.00</td>\n",
              "      <td>0.00</td>\n",
              "      <td>2.12</td>\n",
              "    </tr>\n",
              "    <tr>\n",
              "      <th>519</th>\n",
              "      <td>20.75</td>\n",
              "      <td>0.00</td>\n",
              "      <td>0.09</td>\n",
              "    </tr>\n",
              "    <tr>\n",
              "      <th>7522</th>\n",
              "      <td>23.50</td>\n",
              "      <td>0.00</td>\n",
              "      <td>-0.02</td>\n",
              "    </tr>\n",
              "    <tr>\n",
              "      <th>3656</th>\n",
              "      <td>38.75</td>\n",
              "      <td>8.65</td>\n",
              "      <td>8.07</td>\n",
              "    </tr>\n",
              "    <tr>\n",
              "      <th>4433</th>\n",
              "      <td>18.50</td>\n",
              "      <td>0.00</td>\n",
              "      <td>0.10</td>\n",
              "    </tr>\n",
              "    <tr>\n",
              "      <th>...</th>\n",
              "      <td>...</td>\n",
              "      <td>...</td>\n",
              "      <td>...</td>\n",
              "    </tr>\n",
              "    <tr>\n",
              "      <th>5504</th>\n",
              "      <td>3.25</td>\n",
              "      <td>0.00</td>\n",
              "      <td>4.31</td>\n",
              "    </tr>\n",
              "    <tr>\n",
              "      <th>2900</th>\n",
              "      <td>45.50</td>\n",
              "      <td>0.00</td>\n",
              "      <td>0.27</td>\n",
              "    </tr>\n",
              "    <tr>\n",
              "      <th>2368</th>\n",
              "      <td>23.25</td>\n",
              "      <td>0.00</td>\n",
              "      <td>-0.03</td>\n",
              "    </tr>\n",
              "    <tr>\n",
              "      <th>5077</th>\n",
              "      <td>31.00</td>\n",
              "      <td>0.00</td>\n",
              "      <td>0.04</td>\n",
              "    </tr>\n",
              "    <tr>\n",
              "      <th>2988</th>\n",
              "      <td>28.00</td>\n",
              "      <td>0.00</td>\n",
              "      <td>0.10</td>\n",
              "    </tr>\n",
              "  </tbody>\n",
              "</table>\n",
              "<p>1799 rows × 3 columns</p>\n",
              "</div>"
            ],
            "text/plain": [
              "       Fare  Y Tips  Predicted\n",
              "6492  10.00    0.00       2.12\n",
              "519   20.75    0.00       0.09\n",
              "7522  23.50    0.00      -0.02\n",
              "3656  38.75    8.65       8.07\n",
              "4433  18.50    0.00       0.10\n",
              "...     ...     ...        ...\n",
              "5504   3.25    0.00       4.31\n",
              "2900  45.50    0.00       0.27\n",
              "2368  23.25    0.00      -0.03\n",
              "5077  31.00    0.00       0.04\n",
              "2988  28.00    0.00       0.10\n",
              "\n",
              "[1799 rows x 3 columns]"
            ]
          },
          "metadata": {},
          "execution_count": 13
        }
      ]
    },
    {
      "cell_type": "code",
      "metadata": {
        "colab": {
          "base_uri": "https://localhost:8080/"
        },
        "id": "Ahrx8R1j3p1o",
        "outputId": "343eab40-2f87-4eac-c357-992759b9fbd6"
      },
      "source": [
        "rmse = mean_squared_error(testY, svr_predY, squared=False)\n",
        "print(\"RMSE: \" + \"{:.2f}\".format(rmse))"
      ],
      "execution_count": 14,
      "outputs": [
        {
          "output_type": "stream",
          "name": "stdout",
          "text": [
            "RMSE: 1.23\n"
          ]
        }
      ]
    },
    {
      "cell_type": "code",
      "metadata": {
        "id": "OhgOQc_9h9Pk",
        "colab": {
          "base_uri": "https://localhost:8080/",
          "height": 265
        },
        "outputId": "bfc5abdb-63fe-49b9-f3ff-6082c5969503"
      },
      "source": [
        "plt.scatter(testX['Fare'], testY, s=5, color=\"blue\", label=\"original\")\n",
        "plt.scatter(testX['Fare'], svr_predY, s=5, color=\"red\", label=\"fitted\")\n",
        "plt.legend()\n",
        "plt.show()"
      ],
      "execution_count": 7,
      "outputs": [
        {
          "output_type": "display_data",
          "data": {
            "image/png": "[encoded data removed]",
            "text/plain": [
              "<Figure size 432x288 with 1 Axes>"
            ]
          },
          "metadata": {
            "needs_background": "light"
          }
        }
      ]
    },
    {
      "cell_type": "code",
      "metadata": {
        "id": "_CBLYEnSiXGf"
      },
      "source": [
        "#feature selection\n",
        "from functools import partial\n",
        "from sklearn.feature_selection import SelectKBest, mutual_info_regression\n",
        "\n",
        "ftrainX = train.loc[:, data.columns != 'Tips']\n",
        "ftrainY = train['Tips']\n",
        "\n",
        "select = SelectKBest(mutual_info_regression, k=4).fit(ftrainX, ftrainY)\n",
        "cols = select.get_support(indices=True)\n",
        "\n",
        "ftrainX = ftrainX.iloc[:, cols]\n",
        "ftestX = test.loc[:, data.columns != 'Tips'].iloc[:, cols]\n",
        "ftestY = test['Tips']"
      ],
      "execution_count": 15,
      "outputs": []
    },
    {
      "cell_type": "code",
      "metadata": {
        "colab": {
          "base_uri": "https://localhost:8080/",
          "height": 424
        },
        "id": "rF8DVV-UYvo2",
        "outputId": "9b09e407-0cb1-4bec-9ace-77df1e3fa3d3"
      },
      "source": [
        "ftrainX"
      ],
      "execution_count": 16,
      "outputs": [
        {
          "output_type": "execute_result",
          "data": {
            "text/html": [
              "<div>\n",
              "<style scoped>\n",
              "    .dataframe tbody tr th:only-of-type {\n",
              "        vertical-align: middle;\n",
              "    }\n",
              "\n",
              "    .dataframe tbody tr th {\n",
              "        vertical-align: top;\n",
              "    }\n",
              "\n",
              "    .dataframe thead th {\n",
              "        text-align: right;\n",
              "    }\n",
              "</style>\n",
              "<table border=\"1\" class=\"dataframe\">\n",
              "  <thead>\n",
              "    <tr style=\"text-align: right;\">\n",
              "      <th></th>\n",
              "      <th>Trip Miles</th>\n",
              "      <th>Fare</th>\n",
              "      <th>Trip Total</th>\n",
              "      <th>Payment Type</th>\n",
              "    </tr>\n",
              "  </thead>\n",
              "  <tbody>\n",
              "    <tr>\n",
              "      <th>5359</th>\n",
              "      <td>1.40</td>\n",
              "      <td>8.00</td>\n",
              "      <td>8.00</td>\n",
              "      <td>0</td>\n",
              "    </tr>\n",
              "    <tr>\n",
              "      <th>4802</th>\n",
              "      <td>11.11</td>\n",
              "      <td>32.50</td>\n",
              "      <td>32.50</td>\n",
              "      <td>5</td>\n",
              "    </tr>\n",
              "    <tr>\n",
              "      <th>2846</th>\n",
              "      <td>0.00</td>\n",
              "      <td>27.00</td>\n",
              "      <td>27.00</td>\n",
              "      <td>6</td>\n",
              "    </tr>\n",
              "    <tr>\n",
              "      <th>5877</th>\n",
              "      <td>18.76</td>\n",
              "      <td>43.02</td>\n",
              "      <td>43.02</td>\n",
              "      <td>0</td>\n",
              "    </tr>\n",
              "    <tr>\n",
              "      <th>7554</th>\n",
              "      <td>1.40</td>\n",
              "      <td>7.50</td>\n",
              "      <td>7.50</td>\n",
              "      <td>0</td>\n",
              "    </tr>\n",
              "    <tr>\n",
              "      <th>...</th>\n",
              "      <td>...</td>\n",
              "      <td>...</td>\n",
              "      <td>...</td>\n",
              "      <td>...</td>\n",
              "    </tr>\n",
              "    <tr>\n",
              "      <th>1707</th>\n",
              "      <td>0.00</td>\n",
              "      <td>8.00</td>\n",
              "      <td>12.00</td>\n",
              "      <td>1</td>\n",
              "    </tr>\n",
              "    <tr>\n",
              "      <th>7895</th>\n",
              "      <td>8.52</td>\n",
              "      <td>23.25</td>\n",
              "      <td>23.25</td>\n",
              "      <td>0</td>\n",
              "    </tr>\n",
              "    <tr>\n",
              "      <th>1618</th>\n",
              "      <td>1.64</td>\n",
              "      <td>7.50</td>\n",
              "      <td>7.50</td>\n",
              "      <td>0</td>\n",
              "    </tr>\n",
              "    <tr>\n",
              "      <th>3069</th>\n",
              "      <td>4.33</td>\n",
              "      <td>14.00</td>\n",
              "      <td>14.00</td>\n",
              "      <td>0</td>\n",
              "    </tr>\n",
              "    <tr>\n",
              "      <th>7912</th>\n",
              "      <td>2.56</td>\n",
              "      <td>11.75</td>\n",
              "      <td>11.75</td>\n",
              "      <td>0</td>\n",
              "    </tr>\n",
              "  </tbody>\n",
              "</table>\n",
              "<p>7196 rows × 4 columns</p>\n",
              "</div>"
            ],
            "text/plain": [
              "      Trip Miles   Fare  Trip Total  Payment Type\n",
              "5359        1.40   8.00        8.00             0\n",
              "4802       11.11  32.50       32.50             5\n",
              "2846        0.00  27.00       27.00             6\n",
              "5877       18.76  43.02       43.02             0\n",
              "7554        1.40   7.50        7.50             0\n",
              "...          ...    ...         ...           ...\n",
              "1707        0.00   8.00       12.00             1\n",
              "7895        8.52  23.25       23.25             0\n",
              "1618        1.64   7.50        7.50             0\n",
              "3069        4.33  14.00       14.00             0\n",
              "7912        2.56  11.75       11.75             0\n",
              "\n",
              "[7196 rows x 4 columns]"
            ]
          },
          "metadata": {},
          "execution_count": 16
        }
      ]
    },
    {
      "cell_type": "code",
      "metadata": {
        "colab": {
          "base_uri": "https://localhost:8080/",
          "height": 424
        },
        "id": "Dj5l4NfIQkWe",
        "outputId": "e1c03889-35e6-495b-f0e7-1f8353dea170"
      },
      "source": [
        "fsvr_clf = make_pipeline(StandardScaler(), SVR())\n",
        "fsvr_clf.fit(ftrainX, ftrainY)\n",
        "\n",
        "fsvr_predY = fsvr_clf.predict(ftestX)\n",
        "result = pd.DataFrame({\"Fare\": ftestX['Fare'], \"Y Tips\": ftestY, \"Predicted\": np.round(fsvr_predY,2)})\n",
        "result"
      ],
      "execution_count": 17,
      "outputs": [
        {
          "output_type": "execute_result",
          "data": {
            "text/html": [
              "<div>\n",
              "<style scoped>\n",
              "    .dataframe tbody tr th:only-of-type {\n",
              "        vertical-align: middle;\n",
              "    }\n",
              "\n",
              "    .dataframe tbody tr th {\n",
              "        vertical-align: top;\n",
              "    }\n",
              "\n",
              "    .dataframe thead th {\n",
              "        text-align: right;\n",
              "    }\n",
              "</style>\n",
              "<table border=\"1\" class=\"dataframe\">\n",
              "  <thead>\n",
              "    <tr style=\"text-align: right;\">\n",
              "      <th></th>\n",
              "      <th>Fare</th>\n",
              "      <th>Y Tips</th>\n",
              "      <th>Predicted</th>\n",
              "    </tr>\n",
              "  </thead>\n",
              "  <tbody>\n",
              "    <tr>\n",
              "      <th>6492</th>\n",
              "      <td>10.00</td>\n",
              "      <td>0.00</td>\n",
              "      <td>0.66</td>\n",
              "    </tr>\n",
              "    <tr>\n",
              "      <th>519</th>\n",
              "      <td>20.75</td>\n",
              "      <td>0.00</td>\n",
              "      <td>-0.10</td>\n",
              "    </tr>\n",
              "    <tr>\n",
              "      <th>7522</th>\n",
              "      <td>23.50</td>\n",
              "      <td>0.00</td>\n",
              "      <td>-0.07</td>\n",
              "    </tr>\n",
              "    <tr>\n",
              "      <th>3656</th>\n",
              "      <td>38.75</td>\n",
              "      <td>8.65</td>\n",
              "      <td>8.40</td>\n",
              "    </tr>\n",
              "    <tr>\n",
              "      <th>4433</th>\n",
              "      <td>18.50</td>\n",
              "      <td>0.00</td>\n",
              "      <td>-0.10</td>\n",
              "    </tr>\n",
              "    <tr>\n",
              "      <th>...</th>\n",
              "      <td>...</td>\n",
              "      <td>...</td>\n",
              "      <td>...</td>\n",
              "    </tr>\n",
              "    <tr>\n",
              "      <th>5504</th>\n",
              "      <td>3.25</td>\n",
              "      <td>0.00</td>\n",
              "      <td>2.88</td>\n",
              "    </tr>\n",
              "    <tr>\n",
              "      <th>2900</th>\n",
              "      <td>45.50</td>\n",
              "      <td>0.00</td>\n",
              "      <td>1.53</td>\n",
              "    </tr>\n",
              "    <tr>\n",
              "      <th>2368</th>\n",
              "      <td>23.25</td>\n",
              "      <td>0.00</td>\n",
              "      <td>-0.06</td>\n",
              "    </tr>\n",
              "    <tr>\n",
              "      <th>5077</th>\n",
              "      <td>31.00</td>\n",
              "      <td>0.00</td>\n",
              "      <td>0.03</td>\n",
              "    </tr>\n",
              "    <tr>\n",
              "      <th>2988</th>\n",
              "      <td>28.00</td>\n",
              "      <td>0.00</td>\n",
              "      <td>0.01</td>\n",
              "    </tr>\n",
              "  </tbody>\n",
              "</table>\n",
              "<p>1799 rows × 3 columns</p>\n",
              "</div>"
            ],
            "text/plain": [
              "       Fare  Y Tips  Predicted\n",
              "6492  10.00    0.00       0.66\n",
              "519   20.75    0.00      -0.10\n",
              "7522  23.50    0.00      -0.07\n",
              "3656  38.75    8.65       8.40\n",
              "4433  18.50    0.00      -0.10\n",
              "...     ...     ...        ...\n",
              "5504   3.25    0.00       2.88\n",
              "2900  45.50    0.00       1.53\n",
              "2368  23.25    0.00      -0.06\n",
              "5077  31.00    0.00       0.03\n",
              "2988  28.00    0.00       0.01\n",
              "\n",
              "[1799 rows x 3 columns]"
            ]
          },
          "metadata": {},
          "execution_count": 17
        }
      ]
    },
    {
      "cell_type": "code",
      "metadata": {
        "colab": {
          "base_uri": "https://localhost:8080/"
        },
        "id": "oYXZkJZYQkf-",
        "outputId": "701b5683-08e1-4bc5-eb80-ecd71e688b16"
      },
      "source": [
        "rmse = mean_squared_error(testY, fsvr_predY, squared=False)\n",
        "print(\"RMSE: \" + \"{:.2f}\".format(rmse))"
      ],
      "execution_count": 18,
      "outputs": [
        {
          "output_type": "stream",
          "name": "stdout",
          "text": [
            "RMSE: 1.19\n"
          ]
        }
      ]
    },
    {
      "cell_type": "code",
      "metadata": {
        "colab": {
          "base_uri": "https://localhost:8080/",
          "height": 265
        },
        "id": "tYDgRKW3Qkj8",
        "outputId": "b50dfe74-7e6c-40cc-affe-4f93287a3011"
      },
      "source": [
        "plt.scatter(testX['Fare'], testY, s=5, color=\"blue\", label=\"original\")\n",
        "plt.scatter(testX['Fare'], fsvr_predY, s=5, color=\"red\", label=\"fitted\")\n",
        "plt.legend()\n",
        "plt.show()"
      ],
      "execution_count": 11,
      "outputs": [
        {
          "output_type": "display_data",
          "data": {
            "image/png": "[encoded data removed]",
            "text/plain": [
              "<Figure size 432x288 with 1 Axes>"
            ]
          },
          "metadata": {
            "needs_background": "light"
          }
        }
      ]
    },
    {
      "cell_type": "code",
      "metadata": {
        "id": "8vu9rxkxtLuE",
        "colab": {
          "base_uri": "https://localhost:8080/"
        },
        "outputId": "4298dc7e-c1d4-4666-8b76-495086351f59"
      },
      "source": [
        "from sklearn.model_selection import GridSearchCV\n",
        "from sklearn.pipeline import Pipeline\n",
        "\n",
        "param = {'svr__kernel' : ['rbf', 'sigmoid'], 'svr__degree' : [2, 3], 'svr__C' : [19, 20] }\n",
        "\n",
        "grid_clf = GridSearchCV(estimator = svr_clf, param_grid = param, scoring = 'r2')\n",
        "\n",
        "grid_clf.fit(trainX, trainY)\n",
        "\n",
        "for param in grid_clf.best_params_:\n",
        "  print(\"{0}:\\t{1}\".format(param,grid_clf.best_params_[param]))"
      ],
      "execution_count": 12,
      "outputs": [
        {
          "metadata": {
            "tags": null
          },
          "name": "stdout",
          "output_type": "stream",
          "text": [
            "svr__C:\t19\n",
            "svr__degree:\t2\n",
            "svr__kernel:\trbf\n"
          ]
        }
      ]
    },
    {
      "cell_type": "code",
      "metadata": {
        "id": "OpDHSJZlQU0O",
        "colab": {
          "base_uri": "https://localhost:8080/",
          "height": 424
        },
        "outputId": "991342c4-0d12-45a1-fa05-87d82057b7f4"
      },
      "source": [
        "nsvr_clf = make_pipeline(StandardScaler(), SVR(degree=2, C=20))\n",
        "nsvr_clf.fit(ftrainX, ftrainY)\n",
        "\n",
        "nsvr_predY = nsvr_clf.predict(ftestX)\n",
        "result = pd.DataFrame({\"Fare\": ftestX['Fare'], \"Y Tips\": ftestY, \"Predicted\": np.round(nsvr_predY,2)})\n",
        "result"
      ],
      "execution_count": 13,
      "outputs": [
        {
          "output_type": "execute_result",
          "data": {
            "text/html": [
              "<div>\n",
              "<style scoped>\n",
              "    .dataframe tbody tr th:only-of-type {\n",
              "        vertical-align: middle;\n",
              "    }\n",
              "\n",
              "    .dataframe tbody tr th {\n",
              "        vertical-align: top;\n",
              "    }\n",
              "\n",
              "    .dataframe thead th {\n",
              "        text-align: right;\n",
              "    }\n",
              "</style>\n",
              "<table border=\"1\" class=\"dataframe\">\n",
              "  <thead>\n",
              "    <tr style=\"text-align: right;\">\n",
              "      <th></th>\n",
              "      <th>Fare</th>\n",
              "      <th>Y Tips</th>\n",
              "      <th>Predicted</th>\n",
              "    </tr>\n",
              "  </thead>\n",
              "  <tbody>\n",
              "    <tr>\n",
              "      <th>4491</th>\n",
              "      <td>7.00</td>\n",
              "      <td>1.0</td>\n",
              "      <td>1.90</td>\n",
              "    </tr>\n",
              "    <tr>\n",
              "      <th>6043</th>\n",
              "      <td>5.00</td>\n",
              "      <td>0.0</td>\n",
              "      <td>-0.10</td>\n",
              "    </tr>\n",
              "    <tr>\n",
              "      <th>5717</th>\n",
              "      <td>5.00</td>\n",
              "      <td>0.0</td>\n",
              "      <td>-0.10</td>\n",
              "    </tr>\n",
              "    <tr>\n",
              "      <th>8952</th>\n",
              "      <td>5.00</td>\n",
              "      <td>0.0</td>\n",
              "      <td>-0.10</td>\n",
              "    </tr>\n",
              "    <tr>\n",
              "      <th>4926</th>\n",
              "      <td>3.25</td>\n",
              "      <td>0.0</td>\n",
              "      <td>-0.10</td>\n",
              "    </tr>\n",
              "    <tr>\n",
              "      <th>...</th>\n",
              "      <td>...</td>\n",
              "      <td>...</td>\n",
              "      <td>...</td>\n",
              "    </tr>\n",
              "    <tr>\n",
              "      <th>7499</th>\n",
              "      <td>8.00</td>\n",
              "      <td>0.0</td>\n",
              "      <td>-0.10</td>\n",
              "    </tr>\n",
              "    <tr>\n",
              "      <th>8656</th>\n",
              "      <td>8.25</td>\n",
              "      <td>0.0</td>\n",
              "      <td>-0.10</td>\n",
              "    </tr>\n",
              "    <tr>\n",
              "      <th>114</th>\n",
              "      <td>10.75</td>\n",
              "      <td>0.0</td>\n",
              "      <td>-0.10</td>\n",
              "    </tr>\n",
              "    <tr>\n",
              "      <th>5681</th>\n",
              "      <td>3.25</td>\n",
              "      <td>0.0</td>\n",
              "      <td>-0.10</td>\n",
              "    </tr>\n",
              "    <tr>\n",
              "      <th>5146</th>\n",
              "      <td>9.75</td>\n",
              "      <td>0.0</td>\n",
              "      <td>0.15</td>\n",
              "    </tr>\n",
              "  </tbody>\n",
              "</table>\n",
              "<p>1799 rows × 3 columns</p>\n",
              "</div>"
            ],
            "text/plain": [
              "       Fare  Y Tips  Predicted\n",
              "4491   7.00     1.0       1.90\n",
              "6043   5.00     0.0      -0.10\n",
              "5717   5.00     0.0      -0.10\n",
              "8952   5.00     0.0      -0.10\n",
              "4926   3.25     0.0      -0.10\n",
              "...     ...     ...        ...\n",
              "7499   8.00     0.0      -0.10\n",
              "8656   8.25     0.0      -0.10\n",
              "114   10.75     0.0      -0.10\n",
              "5681   3.25     0.0      -0.10\n",
              "5146   9.75     0.0       0.15\n",
              "\n",
              "[1799 rows x 3 columns]"
            ]
          },
          "metadata": {},
          "execution_count": 13
        }
      ]
    },
    {
      "cell_type": "code",
      "metadata": {
        "id": "Qku9YapxwohE",
        "colab": {
          "base_uri": "https://localhost:8080/"
        },
        "outputId": "c00ad723-d4b4-406a-fec6-89b84cb2a98a"
      },
      "source": [
        "rmse = mean_squared_error(testY, nsvr_predY, squared=False)\n",
        "print(\"RMSE: \" + \"{:.2f}\".format(rmse))"
      ],
      "execution_count": 14,
      "outputs": [
        {
          "output_type": "stream",
          "name": "stdout",
          "text": [
            "RMSE: 1.02\n"
          ]
        }
      ]
    },
    {
      "cell_type": "code",
      "metadata": {
        "id": "9IRBayOpwhv3",
        "colab": {
          "base_uri": "https://localhost:8080/",
          "height": 265
        },
        "outputId": "00e55a71-c79b-48af-99a0-b84edf876b33"
      },
      "source": [
        "plt.scatter(testX['Fare'], testY, s=5, color=\"blue\", label=\"original\")\n",
        "plt.scatter(testX['Fare'], nsvr_predY, s=5, color=\"red\", label=\"fitted\")\n",
        "plt.legend()\n",
        "plt.show()"
      ],
      "execution_count": 26,
      "outputs": [
        {
          "output_type": "display_data",
          "data": {
            "image/png": "[encoded data removed]",
            "text/plain": [
              "<Figure size 432x288 with 1 Axes>"
            ]
          },
          "metadata": {
            "needs_background": "light"
          }
        }
      ]
    },
    {
      "cell_type": "code",
      "metadata": {
        "colab": {
          "base_uri": "https://localhost:8080/",
          "height": 520
        },
        "id": "4iei2QdjQPRO",
        "outputId": "8efa8449-e543-49fd-83d7-17e39b0c1761"
      },
      "source": [
        "result = pd.DataFrame({\"Trip Fare\": testX['Fare'], \"Actual Tips\": testY, \"Original Predicted\": np.round(svr_predY,2), \"After feature selected\": np.round(fsvr_predY,2), \"After feature & parameter\": np.round(nsvr_predY,2)})\n",
        "result.sort_values('Actual Tips', ascending=False).head(15)"
      ],
      "execution_count": 25,
      "outputs": [
        {
          "output_type": "execute_result",
          "data": {
            "text/html": [
              "<div>\n",
              "<style scoped>\n",
              "    .dataframe tbody tr th:only-of-type {\n",
              "        vertical-align: middle;\n",
              "    }\n",
              "\n",
              "    .dataframe tbody tr th {\n",
              "        vertical-align: top;\n",
              "    }\n",
              "\n",
              "    .dataframe thead th {\n",
              "        text-align: right;\n",
              "    }\n",
              "</style>\n",
              "<table border=\"1\" class=\"dataframe\">\n",
              "  <thead>\n",
              "    <tr style=\"text-align: right;\">\n",
              "      <th></th>\n",
              "      <th>Trip Fare</th>\n",
              "      <th>Actual Tips</th>\n",
              "      <th>Original Predicted</th>\n",
              "      <th>After feature selected</th>\n",
              "      <th>After feature &amp; parameter</th>\n",
              "    </tr>\n",
              "  </thead>\n",
              "  <tbody>\n",
              "    <tr>\n",
              "      <th>6841</th>\n",
              "      <td>124.00</td>\n",
              "      <td>30.00</td>\n",
              "      <td>0.29</td>\n",
              "      <td>0.53</td>\n",
              "      <td>2.48</td>\n",
              "    </tr>\n",
              "    <tr>\n",
              "      <th>376</th>\n",
              "      <td>17.75</td>\n",
              "      <td>20.00</td>\n",
              "      <td>0.08</td>\n",
              "      <td>8.03</td>\n",
              "      <td>10.70</td>\n",
              "    </tr>\n",
              "    <tr>\n",
              "      <th>7787</th>\n",
              "      <td>81.75</td>\n",
              "      <td>20.00</td>\n",
              "      <td>0.08</td>\n",
              "      <td>1.19</td>\n",
              "      <td>10.13</td>\n",
              "    </tr>\n",
              "    <tr>\n",
              "      <th>1300</th>\n",
              "      <td>48.75</td>\n",
              "      <td>20.00</td>\n",
              "      <td>0.27</td>\n",
              "      <td>8.20</td>\n",
              "      <td>14.83</td>\n",
              "    </tr>\n",
              "    <tr>\n",
              "      <th>8669</th>\n",
              "      <td>13.00</td>\n",
              "      <td>16.00</td>\n",
              "      <td>0.10</td>\n",
              "      <td>7.11</td>\n",
              "      <td>9.99</td>\n",
              "    </tr>\n",
              "    <tr>\n",
              "      <th>6477</th>\n",
              "      <td>45.25</td>\n",
              "      <td>15.22</td>\n",
              "      <td>3.92</td>\n",
              "      <td>13.24</td>\n",
              "      <td>15.89</td>\n",
              "    </tr>\n",
              "    <tr>\n",
              "      <th>1323</th>\n",
              "      <td>44.75</td>\n",
              "      <td>15.00</td>\n",
              "      <td>0.02</td>\n",
              "      <td>10.97</td>\n",
              "      <td>11.54</td>\n",
              "    </tr>\n",
              "    <tr>\n",
              "      <th>7984</th>\n",
              "      <td>64.25</td>\n",
              "      <td>13.95</td>\n",
              "      <td>-0.24</td>\n",
              "      <td>4.64</td>\n",
              "      <td>13.71</td>\n",
              "    </tr>\n",
              "    <tr>\n",
              "      <th>3994</th>\n",
              "      <td>41.75</td>\n",
              "      <td>13.85</td>\n",
              "      <td>2.85</td>\n",
              "      <td>11.74</td>\n",
              "      <td>13.25</td>\n",
              "    </tr>\n",
              "    <tr>\n",
              "      <th>3215</th>\n",
              "      <td>61.50</td>\n",
              "      <td>13.40</td>\n",
              "      <td>0.25</td>\n",
              "      <td>1.85</td>\n",
              "      <td>7.55</td>\n",
              "    </tr>\n",
              "    <tr>\n",
              "      <th>4595</th>\n",
              "      <td>45.50</td>\n",
              "      <td>12.75</td>\n",
              "      <td>3.28</td>\n",
              "      <td>12.18</td>\n",
              "      <td>13.63</td>\n",
              "    </tr>\n",
              "    <tr>\n",
              "      <th>1265</th>\n",
              "      <td>58.00</td>\n",
              "      <td>12.50</td>\n",
              "      <td>0.63</td>\n",
              "      <td>7.09</td>\n",
              "      <td>11.06</td>\n",
              "    </tr>\n",
              "    <tr>\n",
              "      <th>7875</th>\n",
              "      <td>36.25</td>\n",
              "      <td>12.22</td>\n",
              "      <td>1.16</td>\n",
              "      <td>10.38</td>\n",
              "      <td>11.82</td>\n",
              "    </tr>\n",
              "    <tr>\n",
              "      <th>4220</th>\n",
              "      <td>36.25</td>\n",
              "      <td>12.20</td>\n",
              "      <td>0.84</td>\n",
              "      <td>10.23</td>\n",
              "      <td>11.36</td>\n",
              "    </tr>\n",
              "    <tr>\n",
              "      <th>4035</th>\n",
              "      <td>43.75</td>\n",
              "      <td>12.05</td>\n",
              "      <td>0.64</td>\n",
              "      <td>8.34</td>\n",
              "      <td>11.41</td>\n",
              "    </tr>\n",
              "  </tbody>\n",
              "</table>\n",
              "</div>"
            ],
            "text/plain": [
              "      Trip Fare  Actual Tips  ...  After feature selected  After feature & parameter\n",
              "6841     124.00        30.00  ...                    0.53                       2.48\n",
              "376       17.75        20.00  ...                    8.03                      10.70\n",
              "7787      81.75        20.00  ...                    1.19                      10.13\n",
              "1300      48.75        20.00  ...                    8.20                      14.83\n",
              "8669      13.00        16.00  ...                    7.11                       9.99\n",
              "6477      45.25        15.22  ...                   13.24                      15.89\n",
              "1323      44.75        15.00  ...                   10.97                      11.54\n",
              "7984      64.25        13.95  ...                    4.64                      13.71\n",
              "3994      41.75        13.85  ...                   11.74                      13.25\n",
              "3215      61.50        13.40  ...                    1.85                       7.55\n",
              "4595      45.50        12.75  ...                   12.18                      13.63\n",
              "1265      58.00        12.50  ...                    7.09                      11.06\n",
              "7875      36.25        12.22  ...                   10.38                      11.82\n",
              "4220      36.25        12.20  ...                   10.23                      11.36\n",
              "4035      43.75        12.05  ...                    8.34                      11.41\n",
              "\n",
              "[15 rows x 5 columns]"
            ]
          },
          "metadata": {},
          "execution_count": 25
        }
      ]
    },
    {
      "cell_type": "code",
      "metadata": {
        "colab": {
          "base_uri": "https://localhost:8080/",
          "height": 320
        },
        "id": "YBv8wYeJQPcr",
        "outputId": "358a5a4a-55ef-4f7b-d2a8-978a7a868e5a"
      },
      "source": [
        "plt.figure(figsize=(15,5))\n",
        "\n",
        "plt.subplot(1, 3, 1)\n",
        "plt.scatter(result['Trip Fare'], result['Actual Tips'], s=7, color=\"red\", label=\"original\")\n",
        "plt.scatter(result['Trip Fare'], result['Original Predicted'], s=5, color=\"blue\", label=\"original predicted\")\n",
        "plt.legend()\n",
        "\n",
        "plt.subplot(1, 3, 2)\n",
        "plt.scatter(result['Trip Fare'], result['Actual Tips'], s=7, color=\"red\", label=\"original\")\n",
        "plt.scatter(result['Trip Fare'], result['After feature selected'], s=5, color=\"green\", label=\"feature tuned\")\n",
        "plt.legend()\n",
        "\n",
        "plt.subplot(1, 3, 3)\n",
        "plt.scatter(result['Trip Fare'], result['Actual Tips'], s=7, color=\"red\", label=\"original\")\n",
        "plt.scatter(result['Trip Fare'], result['After feature & parameter'], s=5, color=\"orange\", label=\"feature and parameter tuned\")\n",
        "plt.legend()\n",
        "\n",
        "plt.show()"
      ],
      "execution_count": 78,
      "outputs": [
        {
          "output_type": "display_data",
          "data": {
            "image/png": "[encoded data removed]",
            "text/plain": [
              "<Figure size 1080x360 with 3 Axes>"
            ]
          },
          "metadata": {
            "needs_background": "light"
          }
        }
      ]
    }
  ]
}