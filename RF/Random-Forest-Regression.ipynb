{
 "cells": [
  {
   "cell_type": "code",
   "execution_count": 1,
   "id": "d78b8adc",
   "metadata": {},
   "outputs": [],
   "source": [
    "import pandas as pd\n",
    "import numpy as np\n",
    "import csv\n",
    "import matplotlib.pyplot as plt\n",
    "import math\n",
    "import pickle"
   ]
  },
  {
   "cell_type": "code",
   "execution_count": 2,
   "id": "54f9c4e5",
   "metadata": {},
   "outputs": [],
   "source": [
    "data = pd.read_csv(\"TaxiTrip2021Subset.csv\")\n",
    "\n",
    "train = data.sample(frac=0.8)\n",
    "test = data.drop(train.index).sample(frac=1.0)"
   ]
  },
  {
   "cell_type": "code",
   "execution_count": 3,
   "id": "5917baaa",
   "metadata": {},
   "outputs": [],
   "source": [
    "trainX = train[['Trip Seconds', 'Trip Miles', 'Fare']]\n",
    "trainY = train['Tips']\n",
    "testX = test[['Trip Seconds', 'Trip Miles', 'Fare']]\n",
    "testY = test['Tips']"
   ]
  },
  {
   "cell_type": "code",
   "execution_count": 4,
   "id": "f80ec67f",
   "metadata": {},
   "outputs": [
    {
     "data": {
      "text/plain": [
       "RandomForestRegressor(max_depth=3, random_state=0)"
      ]
     },
     "execution_count": 4,
     "metadata": {},
     "output_type": "execute_result"
    }
   ],
   "source": [
    "from sklearn.ensemble import RandomForestRegressor\n",
    "from sklearn.metrics import mean_squared_error\n",
    "rfr = RandomForestRegressor(max_depth=3, random_state=0)\n",
    "rfr.fit(trainX,trainY)"
   ]
  },
  {
   "cell_type": "code",
   "execution_count": 5,
   "id": "55b77d19",
   "metadata": {},
   "outputs": [
    {
     "name": "stdout",
     "output_type": "stream",
     "text": [
      "RMSE: 2.73\n"
     ]
    }
   ],
   "source": [
    "rfr_predY = rfr.predict(testX)\n",
    "rmse = math.sqrt(mean_squared_error(testY,rfr_predY))\n",
    "print(\"RMSE: \" + \"{:.2f}\".format(rmse))"
   ]
  },
  {
   "cell_type": "code",
   "execution_count": 6,
   "id": "b53a58e4",
   "metadata": {},
   "outputs": [
    {
     "data": {
      "image/png": "[encoded data removed]",
      "text/plain": [
       "<Figure size 432x288 with 1 Axes>"
      ]
     },
     "metadata": {
      "needs_background": "light"
     },
     "output_type": "display_data"
    }
   ],
   "source": [
    "plt.scatter(testX['Fare'], testY, s=5, color='blue', label=\"Original\")\n",
    "plt.scatter(testX['Fare'], rfr_predY, s=5, color=\"red\", label=\"Fitted\")\n",
    "plt.legend()\n",
    "plt.xlabel('Fare')\n",
    "plt.ylabel('Tip')\n",
    "plt.show()"
   ]
  },
  {
   "cell_type": "code",
   "execution_count": 8,
   "id": "0fc3fefc",
   "metadata": {},
   "outputs": [],
   "source": [
    "pickle.dump(rfr, open('RFR_Model.sav', 'wb'))"
   ]
  },
  {
   "cell_type": "code",
   "execution_count": null,
   "id": "588ab3ba",
   "metadata": {},
   "outputs": [],
   "source": []
  }
 ],
 "metadata": {
  "kernelspec": {
   "display_name": "Python 3",
   "language": "python",
   "name": "python3"
  },
  "language_info": {
   "codemirror_mode": {
    "name": "ipython",
    "version": 3
   },
   "file_extension": ".py",
   "mimetype": "text/x-python",
   "name": "python",
   "nbconvert_exporter": "python",
   "pygments_lexer": "ipython3",
   "version": "3.8.8"
  }
 },
 "nbformat": 4,
 "nbformat_minor": 5
}
